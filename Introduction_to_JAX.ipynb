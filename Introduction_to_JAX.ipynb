{
 "cells": [
  {
   "cell_type": "markdown",
   "metadata": {},
   "source": [
    "# JAX tutorial \n",
    "\n",
    "* JAX offers four benefits for scientists writing pipelines in cosmology:\n",
    "\n",
    "** Just In Time (JIT) compilation\n",
    "** Automatic differentiation\n",
    "** Easy vectorization\n",
    "** GPU acceleration\n",
    "\n",
    "* In this notebook we will see examples of the first two and talk a bit about the thirs though this requires compatible hardware.\n"
   ]
  },
  {
   "cell_type": "code",
   "execution_count": 1,
   "metadata": {},
   "outputs": [],
   "source": [
    "## Standard libraries\n",
    "import os\n",
    "import math\n",
    "import numpy as np \n",
    "import time\n",
    "\n",
    "## Imports for plotting\n",
    "import matplotlib.pyplot as plt\n",
    "%matplotlib inline \n",
    "import getdist\n",
    "\n",
    "## cosmological sampling \n",
    "import numpyro \n",
    "import emcee \n",
    "\n",
    "## JAX \n",
    "import jax\n",
    "import jax.numpy as jnp\n",
    "\n",
    "## Emulator library- This is written by me and the details are not too important for this tutorial \n",
    "## essentially the idea is to have a fast emulator for the WL power spectrum written in JAX \n",
    "from integrated_model_jax import IntegratedModel"
   ]
  },
  {
   "cell_type": "markdown",
   "metadata": {},
   "source": [
    "## Lets look at a common example in cosmology: sampling a posterior \n",
    "\n",
    "* First lets load in an Emulator in JAX that I pre-trained to output the KiDS WL $C_\\ell$s"
   ]
  },
  {
   "cell_type": "code",
   "execution_count": 2,
   "metadata": {},
   "outputs": [
    {
     "name": "stdout",
     "output_type": "stream",
     "text": [
      "scaler mean shape (15,)\n",
      "scaler mean out shape (120,)\n",
      "no pca\n",
      "no pca\n",
      "restore successful\n"
     ]
    }
   ],
   "source": [
    "\n",
    "wl_model = IntegratedModel(None, None, None, None)\n",
    "wl_model.restore(\"wl_fiducial_2048\")\n",
    "cov = np.load(\"covmat.npy\")"
   ]
  },
  {
   "cell_type": "markdown",
   "metadata": {},
   "source": [
    "Now lets choose some fiducial cosmology to match planck18 and make some fake data "
   ]
  },
  {
   "cell_type": "code",
   "execution_count": 3,
   "metadata": {},
   "outputs": [],
   "source": [
    "# Emulator takes normal LCDM parameters plus some nuisances: a $A_{IA}$ parameter, and 5 photo-z nuisance parameters\n",
    "fid_cosmo = {'omega_b': jnp.array([0.02235]), 'omega_cdm': jnp.array([0.120]), 'h': jnp.array([0.675]), 'sigma8':jnp.array([0.811]), 'n_s': jnp.array([0.965]), 'A_IA':jnp.array([0]), 'del_z1':jnp.array([0.0]),\\\n",
    "             'del_z2':jnp.array([0.0]), 'del_z3':jnp.array([0.0]), 'del_z4':jnp.array([0.0]), \n",
    "             'del_z5':jnp.array([0.0]), 'logT_AGN':jnp.array([7.8]), 'm_nu':jnp.array([0.02]), 'bias_l1':jnp.array([1.0]), 'bias_c2':jnp.array([1.0])}\n",
    "\n",
    "# The emulator also takes EDE parameters which are not used in this example so set fEDE to 0.0\n",
    "fid_cosmo[\"fEDE\"] = jnp.array([0.0])\n",
    "fid_cosmo[\"log10z_c\"] = jnp.array([3.3])\n",
    "fid_cosmo[\"thetai_scf\"] = jnp.array([2.0])\n",
    "\n",
    "datavector = wl_model.predict(fid_cosmo)[0]"
   ]
  },
  {
   "cell_type": "markdown",
   "metadata": {},
   "source": [
    "Plotting the data we will fit "
   ]
  },
  {
   "cell_type": "code",
   "execution_count": 4,
   "metadata": {},
   "outputs": [
    {
     "data": {
      "text/plain": [
       "<ErrorbarContainer object of 3 artists>"
      ]
     },
     "execution_count": 4,
     "metadata": {},
     "output_type": "execute_result"
    },
    {
     "data": {
      "image/png": "[encoded data removed]",
      "text/plain": [
       "<Figure size 1000x1000 with 1 Axes>"
      ]
     },
     "metadata": {},
     "output_type": "display_data"
    }
   ],
   "source": [
    "fig, ax = plt.subplots(figsize=(10,10))\n",
    "ax.errorbar(x=np.arange(120), y=datavector, yerr=np.sqrt(np.diag(cov)), fmt='o')"
   ]
  },
  {
   "cell_type": "markdown",
   "metadata": {},
   "source": [
    "Now lets see why JAX is useful: lets write the likelihood in JAX"
   ]
  },
  {
   "cell_type": "code",
   "execution_count": 5,
   "metadata": {},
   "outputs": [],
   "source": [
    "params_vary =[\"omega_b\", \"omega_cdm\", \"h\", \"sigma8\", \"n_s\", \"A_IA\", \"del_z1\", \"del_z2\", \"del_z3\", \"del_z4\", \"del_z5\"]\n",
    "def create_emu_input_dict(params):\n",
    "    emu_input = fid_cosmo.copy()\n",
    "    for i, p in enumerate(params_vary):\n",
    "        emu_input[p] = params[i]\n",
    "    return emu_input\n",
    "\n",
    "\n",
    "inv_cov = jnp.linalg.inv(jnp.array(cov))"
   ]
  },
  {
   "cell_type": "code",
   "execution_count": 6,
   "metadata": {},
   "outputs": [],
   "source": [
    "def loglkl(params):\n",
    "    emu_input = create_emu_input_dict(params)\n",
    "    theory_prediction = wl_model.predict(emu_input)[0]\n",
    "    diff = theory_prediction - datavector\n",
    "    return -0.5 * jnp.dot(diff, jnp.dot(inv_cov, diff))"
   ]
  },
  {
   "cell_type": "markdown",
   "metadata": {},
   "source": [
    "Now lets see the benefit of JIT compilation"
   ]
  },
  {
   "cell_type": "code",
   "execution_count": 7,
   "metadata": {},
   "outputs": [
    {
     "name": "stdout",
     "output_type": "stream",
     "text": [
      "6.09 ms ± 170 µs per loop (mean ± std. dev. of 7 runs, 1 loop each)\n"
     ]
    }
   ],
   "source": [
    "#how log does the unjitted code take to run? \n",
    "dummy_input = jnp.array([[0.02235, 0.120, 0.675, 0.811, 0.965, 0.0, 0.0, 0.0, 0.0, 0.0, 0.0]])\n",
    "%timeit loglkl(dummy_input) #This is already pretty quick for such a simple likelihood"
   ]
  },
  {
   "cell_type": "code",
   "execution_count": 11,
   "metadata": {},
   "outputs": [
    {
     "data": {
      "text/plain": [
       "Array(-907.5675, dtype=float32)"
      ]
     },
     "execution_count": 11,
     "metadata": {},
     "output_type": "execute_result"
    }
   ],
   "source": [
    "# now lets JIT this function, this is as simple as\n",
    "\n",
    "lkl_jit = jax.jit(loglkl)\n",
    "\n",
    "# Need to run the function one for compilation to take place \n",
    "lkl_jit(dummy_input)"
   ]
  },
  {
   "cell_type": "code",
   "execution_count": 12,
   "metadata": {},
   "outputs": [
    {
     "name": "stdout",
     "output_type": "stream",
     "text": [
      "216 µs ± 298 ns per loop (mean ± std. dev. of 7 runs, 1,000 loops each)\n"
     ]
    }
   ],
   "source": [
    "%timeit lkl_jit(dummy_input)"
   ]
  },
  {
   "cell_type": "markdown",
   "metadata": {},
   "source": [
    "Great now all thats left to do is sampling "
   ]
  }
 ],
 "metadata": {
  "kernelspec": {
   "display_name": "Python 3 (ipykernel)",
   "language": "python",
   "name": "python3"
  },
  "language_info": {
   "codemirror_mode": {
    "name": "ipython",
    "version": 3
   },
   "file_extension": ".py",
   "mimetype": "text/x-python",
   "name": "python",
   "nbconvert_exporter": "python",
   "pygments_lexer": "ipython3",
   "version": "3.10.13"
  }
 },
 "nbformat": 4,
 "nbformat_minor": 4
}
